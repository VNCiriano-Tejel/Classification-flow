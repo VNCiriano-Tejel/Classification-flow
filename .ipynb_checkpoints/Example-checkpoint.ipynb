{
 "cells": [
  {
   "cell_type": "code",
   "execution_count": 1,
   "id": "03f8f4f2",
   "metadata": {
    "ExecuteTime": {
     "end_time": "2022-09-30T08:03:22.988138Z",
     "start_time": "2022-09-30T08:03:22.769832Z"
    }
   },
   "outputs": [],
   "source": [
    "#from Plot_color_map import *\n",
    "\n",
    "# if you have added assigment_2 in your library then import as \n",
    "from assigment_2 import *"
   ]
  },
  {
   "cell_type": "code",
   "execution_count": 6,
   "id": "7440d225",
   "metadata": {
    "ExecuteTime": {
     "end_time": "2022-09-30T08:03:13.564229Z",
     "start_time": "2022-09-30T08:03:13.551285Z"
    }
   },
   "outputs": [
    {
     "ename": "TypeError",
     "evalue": "D2_map() missing 10 required positional arguments: 'x', 'y', 'Z', 'level_min', 'level_max', 'log', 'title', 'xlabel', 'ylabel', and 'filename'",
     "output_type": "error",
     "traceback": [
      "\u001b[1;31m---------------------------------------------------------------------------\u001b[0m",
      "\u001b[1;31mTypeError\u001b[0m                                 Traceback (most recent call last)",
      "\u001b[1;32m<ipython-input-6-844628663ee6>\u001b[0m in \u001b[0;36m<module>\u001b[1;34m\u001b[0m\n\u001b[1;32m----> 1\u001b[1;33m \u001b[0mD2_map\u001b[0m\u001b[1;33m(\u001b[0m\u001b[1;33m)\u001b[0m\u001b[1;33m\u001b[0m\u001b[1;33m\u001b[0m\u001b[0m\n\u001b[0m",
      "\u001b[1;31mTypeError\u001b[0m: D2_map() missing 10 required positional arguments: 'x', 'y', 'Z', 'level_min', 'level_max', 'log', 'title', 'xlabel', 'ylabel', and 'filename'"
     ]
    }
   ],
   "source": [
    "D2_map()"
   ]
  },
  {
   "cell_type": "code",
   "execution_count": null,
   "id": "067fa87b",
   "metadata": {},
   "outputs": [],
   "source": []
  }
 ],
 "metadata": {
  "kernelspec": {
   "display_name": "Python 3",
   "language": "python",
   "name": "python3"
  },
  "language_info": {
   "codemirror_mode": {
    "name": "ipython",
    "version": 3
   },
   "file_extension": ".py",
   "mimetype": "text/x-python",
   "name": "python",
   "nbconvert_exporter": "python",
   "pygments_lexer": "ipython3",
   "version": "3.7.12"
  },
  "toc": {
   "base_numbering": 1,
   "nav_menu": {},
   "number_sections": true,
   "sideBar": true,
   "skip_h1_title": false,
   "title_cell": "Table of Contents",
   "title_sidebar": "Contents",
   "toc_cell": false,
   "toc_position": {},
   "toc_section_display": true,
   "toc_window_display": false
  }
 },
 "nbformat": 4,
 "nbformat_minor": 5
}
